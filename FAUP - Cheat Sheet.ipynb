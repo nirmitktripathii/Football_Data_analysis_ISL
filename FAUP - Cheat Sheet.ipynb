{
 "cells": [
  {
   "cell_type": "markdown",
   "metadata": {
    "id": "-7mL2OGt_Dl2"
   },
   "source": [
    "# Importing libraries"
   ]
  },
  {
   "cell_type": "code",
   "execution_count": 10,
   "metadata": {
    "executionInfo": {
     "elapsed": 881,
     "status": "ok",
     "timestamp": 1620212035253,
     "user": {
      "displayName": "Sushant Rao",
      "photoUrl": "https://lh3.googleusercontent.com/a-/AOh14GiqCtiyub8PWpaTYE9yzDLkkUacTVR_bgm2Q4_j=s64",
      "userId": "18302543905730526356"
     },
     "user_tz": -330
    },
    "id": "jZkcP5dM8Ca1"
   },
   "outputs": [],
   "source": [
    "import pandas as pd"
   ]
  },
  {
   "cell_type": "markdown",
   "metadata": {
    "id": "nPDuo4wIATkH"
   },
   "source": [
    "# Google Colab Keyboard Shortcuts\n",
    "\n",
    "For the entire list of Keyboard shortcuts, go to `Tools --> Keyboard Shortcuts` \n",
    "or type `Ctrl + M + H`"
   ]
  },
  {
   "cell_type": "markdown",
   "metadata": {
    "id": "fm9ztswrpKl8"
   },
   "source": [
    "Running a cell:\n",
    "1. **Click \"Run\"**\n",
    "2. **Shift + Enter** (*Runs the current cell and adds a new cell if there is no cell below the current cell*)\n",
    "3. **Ctrl + Enter** (*Runs the current cell, but does not add any cells below*)\n",
    "4. **Alt + Enter** (*Runs the current cell and adds a new cell irrespective of any scenario*)"
   ]
  },
  {
   "cell_type": "markdown",
   "metadata": {
    "id": "PkuYLM1pAdR3"
   },
   "source": [
    "Cell Operations:\n",
    "1. Add a cell below the current cell --> Ctrl + M + B\n",
    "2. Add a cell above the current cell --> Ctrl + M + A\n",
    "3. Delete the current cell --> Ctrl + M + D\n",
    "4. Move selected cell(s) up --> Ctrl + M + K\n",
    "4. Move selected cell(s) down --> Ctrl + M + J\n",
    "5. Undo Cell operation --> Ctrl + M + Z"
   ]
  },
  {
   "cell_type": "markdown",
   "metadata": {
    "id": "cqAJaQAPCkW2"
   },
   "source": [
    "# Data Sctructures"
   ]
  },
  {
   "cell_type": "markdown",
   "metadata": {
    "id": "WjeTBszsDL1O"
   },
   "source": [
    "## Lists\n",
    "\n",
    "A list is identified by any element(s) surrounded by 2 square brackets [ ] \\\\"
   ]
  },
  {
   "cell_type": "code",
   "execution_count": 1,
   "metadata": {
    "executionInfo": {
     "elapsed": 1171,
     "status": "ok",
     "timestamp": 1620210218305,
     "user": {
      "displayName": "Sushant Rao",
      "photoUrl": "https://lh3.googleusercontent.com/a-/AOh14GiqCtiyub8PWpaTYE9yzDLkkUacTVR_bgm2Q4_j=s64",
      "userId": "18302543905730526356"
     },
     "user_tz": -330
    },
    "id": "vCbhPUqwDNul"
   },
   "outputs": [],
   "source": [
    "my_list = [1, 2, \"a\", True, 20021.1]"
   ]
  },
  {
   "cell_type": "markdown",
   "metadata": {
    "id": "4v9c82yFDkYN"
   },
   "source": [
    "Looking at a list from left to right, the position numbers (indexes) are absolutely fixed. Count starting from 0 and upto length of list."
   ]
  },
  {
   "cell_type": "code",
   "execution_count": 2,
   "metadata": {
    "colab": {
     "base_uri": "https://localhost:8080/"
    },
    "executionInfo": {
     "elapsed": 1344,
     "status": "ok",
     "timestamp": 1620210317781,
     "user": {
      "displayName": "Sushant Rao",
      "photoUrl": "https://lh3.googleusercontent.com/a-/AOh14GiqCtiyub8PWpaTYE9yzDLkkUacTVR_bgm2Q4_j=s64",
      "userId": "18302543905730526356"
     },
     "user_tz": -330
    },
    "id": "L6a7yj6zDd5j",
    "outputId": "9aa7c8bc-40fa-4285-e2c1-2aa07fdcffc4"
   },
   "outputs": [
    {
     "data": {
      "text/plain": [
       "1"
      ]
     },
     "execution_count": 2,
     "metadata": {
      "tags": []
     },
     "output_type": "execute_result"
    }
   ],
   "source": [
    "my_list[0]  # Accessing the 1st element of the list"
   ]
  },
  {
   "cell_type": "code",
   "execution_count": 3,
   "metadata": {
    "colab": {
     "base_uri": "https://localhost:8080/",
     "height": 35
    },
    "executionInfo": {
     "elapsed": 800,
     "status": "ok",
     "timestamp": 1620210328864,
     "user": {
      "displayName": "Sushant Rao",
      "photoUrl": "https://lh3.googleusercontent.com/a-/AOh14GiqCtiyub8PWpaTYE9yzDLkkUacTVR_bgm2Q4_j=s64",
      "userId": "18302543905730526356"
     },
     "user_tz": -330
    },
    "id": "WF6q-GMVD3RV",
    "outputId": "0a9c00b2-3ddb-4bb4-adaf-f7c0882aa9e9"
   },
   "outputs": [
    {
     "data": {
      "application/vnd.google.colaboratory.intrinsic+json": {
       "type": "string"
      },
      "text/plain": [
       "'a'"
      ]
     },
     "execution_count": 3,
     "metadata": {
      "tags": []
     },
     "output_type": "execute_result"
    }
   ],
   "source": [
    "my_list[2]  # Accessing the 3rd element of the list"
   ]
  },
  {
   "cell_type": "markdown",
   "metadata": {
    "id": "mYxOHRaEDbZL"
   },
   "source": [
    "## Dictionary\n",
    "\n",
    "A dictionary is identified by any element(s) surrounded by 2 curly braces (brackets) { } \\\\\n",
    "Each element in a dictionary will always be in the form of a key-value pair"
   ]
  },
  {
   "cell_type": "code",
   "execution_count": 4,
   "metadata": {
    "executionInfo": {
     "elapsed": 1047,
     "status": "ok",
     "timestamp": 1620211643791,
     "user": {
      "displayName": "Sushant Rao",
      "photoUrl": "https://lh3.googleusercontent.com/a-/AOh14GiqCtiyub8PWpaTYE9yzDLkkUacTVR_bgm2Q4_j=s64",
      "userId": "18302543905730526356"
     },
     "user_tz": -330
    },
    "id": "Dbjl6d2pIFn2"
   },
   "outputs": [],
   "source": [
    "my_dict = {\"key1\": 1, \"Number\": 2, \"strKey\": \"a\", \"boolKey\": True, \"floaKey\": 20021.1}"
   ]
  },
  {
   "cell_type": "markdown",
   "metadata": {
    "id": "dpbwcEFmIf0c"
   },
   "source": [
    "There is no need to count any position number for the index in dictionaries. \\\\\n",
    "Just enter the key as index and you will obtain the corresponding value. \\\\\n",
    "PS: Every key has to be unique"
   ]
  },
  {
   "cell_type": "code",
   "execution_count": 5,
   "metadata": {
    "colab": {
     "base_uri": "https://localhost:8080/"
    },
    "executionInfo": {
     "elapsed": 991,
     "status": "ok",
     "timestamp": 1620211645624,
     "user": {
      "displayName": "Sushant Rao",
      "photoUrl": "https://lh3.googleusercontent.com/a-/AOh14GiqCtiyub8PWpaTYE9yzDLkkUacTVR_bgm2Q4_j=s64",
      "userId": "18302543905730526356"
     },
     "user_tz": -330
    },
    "id": "6C-kM3XlIzjQ",
    "outputId": "74f4aa5a-8219-43b3-d282-626a3716f27e"
   },
   "outputs": [
    {
     "data": {
      "text/plain": [
       "1"
      ]
     },
     "execution_count": 5,
     "metadata": {
      "tags": []
     },
     "output_type": "execute_result"
    }
   ],
   "source": [
    "my_dict[\"key1\"]"
   ]
  },
  {
   "cell_type": "code",
   "execution_count": 6,
   "metadata": {
    "colab": {
     "base_uri": "https://localhost:8080/"
    },
    "executionInfo": {
     "elapsed": 1087,
     "status": "ok",
     "timestamp": 1620211646153,
     "user": {
      "displayName": "Sushant Rao",
      "photoUrl": "https://lh3.googleusercontent.com/a-/AOh14GiqCtiyub8PWpaTYE9yzDLkkUacTVR_bgm2Q4_j=s64",
      "userId": "18302543905730526356"
     },
     "user_tz": -330
    },
    "id": "eLFNRTSLI2pc",
    "outputId": "bd1ea710-3975-4869-dc51-53a180b2a06e"
   },
   "outputs": [
    {
     "data": {
      "text/plain": [
       "True"
      ]
     },
     "execution_count": 6,
     "metadata": {
      "tags": []
     },
     "output_type": "execute_result"
    }
   ],
   "source": [
    "my_dict[\"boolKey\"]"
   ]
  },
  {
   "cell_type": "code",
   "execution_count": 7,
   "metadata": {
    "colab": {
     "base_uri": "https://localhost:8080/",
     "height": 35
    },
    "executionInfo": {
     "elapsed": 1143,
     "status": "ok",
     "timestamp": 1620211646495,
     "user": {
      "displayName": "Sushant Rao",
      "photoUrl": "https://lh3.googleusercontent.com/a-/AOh14GiqCtiyub8PWpaTYE9yzDLkkUacTVR_bgm2Q4_j=s64",
      "userId": "18302543905730526356"
     },
     "user_tz": -330
    },
    "id": "2PRI2QrCI5K4",
    "outputId": "892c44eb-ec80-448a-88fb-e53fbbcc1ea9"
   },
   "outputs": [
    {
     "data": {
      "application/vnd.google.colaboratory.intrinsic+json": {
       "type": "string"
      },
      "text/plain": [
       "'a'"
      ]
     },
     "execution_count": 7,
     "metadata": {
      "tags": []
     },
     "output_type": "execute_result"
    }
   ],
   "source": [
    "my_dict[\"strKey\"]"
   ]
  },
  {
   "cell_type": "markdown",
   "metadata": {
    "id": "F3QS8h7iD6G4"
   },
   "source": [
    "Protip: Use a list when you do not want to associate your elements with a specific key. The fixed position is suitable. \\\\\n",
    "For eg, a list of players \\\\\n",
    "[\"Sunil Chhetri\", \"Gurpreet Singh Sandhu\", \"Manvir Singh\"]\n",
    "\n",
    "Use a dictionary when you want pairs of values to be stored. For eg, list of players and current clubs \\\\\n",
    "{\"Sunil Chhetri\": \"BFC\", \"Gurpreet Singh Sandhu\": \"BFC\", \"Manvir Singh\": \"ATKMB\"}"
   ]
  },
  {
   "cell_type": "markdown",
   "metadata": {
    "id": "FzmZ_SAR8Cbd"
   },
   "source": [
    "## DataFrame\n",
    "\n",
    "Converts dictionary or 2-D lists to a dataframe (DataFrame is a 2-dimensional labeled data structure with columns of potentially different types)\n",
    "\n",
    "<b> Parameters: </b>\n",
    "\n",
    "- data: a 2-D list or dictionary which needs to be converted into dataframe\n",
    "- index: index to be used for resulting frame\n",
    "- columns: column labels to use for resulting frame"
   ]
  },
  {
   "cell_type": "code",
   "execution_count": 11,
   "metadata": {
    "executionInfo": {
     "elapsed": 1449,
     "status": "ok",
     "timestamp": 1620212040224,
     "user": {
      "displayName": "Sushant Rao",
      "photoUrl": "https://lh3.googleusercontent.com/a-/AOh14GiqCtiyub8PWpaTYE9yzDLkkUacTVR_bgm2Q4_j=s64",
      "userId": "18302543905730526356"
     },
     "user_tz": -330
    },
    "id": "FiIXuwhA8Cbe"
   },
   "outputs": [],
   "source": [
    "df = [[11, 12, 33], [44, 55, 66], [77, 88, 99]]\n",
    "df = pd.DataFrame(df, index=['Row1', 'Row2', 'Row3'], columns=['Col1', 'Col2', 'Col3'])"
   ]
  },
  {
   "cell_type": "code",
   "execution_count": null,
   "metadata": {
    "colab": {
     "base_uri": "https://localhost:8080/",
     "height": 137
    },
    "executionInfo": {
     "elapsed": 811,
     "status": "ok",
     "timestamp": 1620208749618,
     "user": {
      "displayName": "Sushant Rao",
      "photoUrl": "https://lh3.googleusercontent.com/a-/AOh14GiqCtiyub8PWpaTYE9yzDLkkUacTVR_bgm2Q4_j=s64",
      "userId": "18302543905730526356"
     },
     "user_tz": -330
    },
    "id": "JvGW_tOw8Cbg",
    "outputId": "3c162b4a-5404-4f01-e279-fdddf270ddb0"
   },
   "outputs": [
    {
     "data": {
      "text/html": [
       "<div>\n",
       "<style scoped>\n",
       "    .dataframe tbody tr th:only-of-type {\n",
       "        vertical-align: middle;\n",
       "    }\n",
       "\n",
       "    .dataframe tbody tr th {\n",
       "        vertical-align: top;\n",
       "    }\n",
       "\n",
       "    .dataframe thead th {\n",
       "        text-align: right;\n",
       "    }\n",
       "</style>\n",
       "<table border=\"1\" class=\"dataframe\">\n",
       "  <thead>\n",
       "    <tr style=\"text-align: right;\">\n",
       "      <th></th>\n",
       "      <th>Col1</th>\n",
       "      <th>Col2</th>\n",
       "      <th>Col3</th>\n",
       "    </tr>\n",
       "  </thead>\n",
       "  <tbody>\n",
       "    <tr>\n",
       "      <th>Row1</th>\n",
       "      <td>11</td>\n",
       "      <td>12</td>\n",
       "      <td>33</td>\n",
       "    </tr>\n",
       "    <tr>\n",
       "      <th>Row2</th>\n",
       "      <td>44</td>\n",
       "      <td>55</td>\n",
       "      <td>66</td>\n",
       "    </tr>\n",
       "    <tr>\n",
       "      <th>Row3</th>\n",
       "      <td>77</td>\n",
       "      <td>88</td>\n",
       "      <td>99</td>\n",
       "    </tr>\n",
       "  </tbody>\n",
       "</table>\n",
       "</div>"
      ],
      "text/plain": [
       "      Col1  Col2  Col3\n",
       "Row1    11    12    33\n",
       "Row2    44    55    66\n",
       "Row3    77    88    99"
      ]
     },
     "execution_count": 10,
     "metadata": {
      "tags": []
     },
     "output_type": "execute_result"
    }
   ],
   "source": [
    "df"
   ]
  },
  {
   "cell_type": "markdown",
   "metadata": {
    "id": "u_epJFJS_GuF"
   },
   "source": [
    "# pandas cheatsheet"
   ]
  },
  {
   "cell_type": "markdown",
   "metadata": {
    "id": "bng_ZOcW8CbV"
   },
   "source": [
    "## read_csv\n",
    "\n",
    "Read a comma-separated values (csv) file into DataFrame.<br><br>\n",
    "<b> Parameter:</b>\n",
    "- filepath_or_buffer: Address of the file to be accessed (can be a URL or local address"
   ]
  },
  {
   "cell_type": "markdown",
   "metadata": {
    "id": "soAcK2PAJF0M"
   },
   "source": [
    "### Using Jupyter Notebook/Local Python System\n",
    "<b> Parameter:</b>\n",
    "- filepath_or_buffer: Address of the file to be accessed (can be a URL or local address"
   ]
  },
  {
   "cell_type": "code",
   "execution_count": null,
   "metadata": {
    "id": "M6YyiSNW8CbZ"
   },
   "outputs": [],
   "source": [
    "file_address = \"D:/Sports Analysis/Sports Analytics Course Content/Sample_CSV.csv\"\n",
    "df = pd.read_csv(file_address)"
   ]
  },
  {
   "cell_type": "markdown",
   "metadata": {
    "id": "KPEzzGDq8Elo"
   },
   "source": [
    "### Using Google Colab"
   ]
  },
  {
   "cell_type": "code",
   "execution_count": 6,
   "metadata": {
    "executionInfo": {
     "elapsed": 789,
     "status": "ok",
     "timestamp": 1620208466425,
     "user": {
      "displayName": "Sushant Rao",
      "photoUrl": "https://lh3.googleusercontent.com/a-/AOh14GiqCtiyub8PWpaTYE9yzDLkkUacTVR_bgm2Q4_j=s64",
      "userId": "18302543905730526356"
     },
     "user_tz": -330
    },
    "id": "XkSru3TK8N3g"
   },
   "outputs": [],
   "source": [
    "import io\n",
    "from google.colab import files"
   ]
  },
  {
   "cell_type": "code",
   "execution_count": null,
   "metadata": {
    "id": "qApuDx4I8W1Q"
   },
   "outputs": [],
   "source": [
    "uploaded = files.upload()"
   ]
  },
  {
   "cell_type": "code",
   "execution_count": 7,
   "metadata": {
    "executionInfo": {
     "elapsed": 667,
     "status": "ok",
     "timestamp": 1620208468020,
     "user": {
      "displayName": "Sushant Rao",
      "photoUrl": "https://lh3.googleusercontent.com/a-/AOh14GiqCtiyub8PWpaTYE9yzDLkkUacTVR_bgm2Q4_j=s64",
      "userId": "18302543905730526356"
     },
     "user_tz": -330
    },
    "id": "9pXFKjs18l-8"
   },
   "outputs": [],
   "source": [
    "isl_df = pd.read_csv(io.BytesIO(uploaded['isl_data.csv']))"
   ]
  },
  {
   "cell_type": "code",
   "execution_count": 8,
   "metadata": {
    "colab": {
     "base_uri": "https://localhost:8080/",
     "height": 377
    },
    "executionInfo": {
     "elapsed": 726,
     "status": "ok",
     "timestamp": 1620208470236,
     "user": {
      "displayName": "Sushant Rao",
      "photoUrl": "https://lh3.googleusercontent.com/a-/AOh14GiqCtiyub8PWpaTYE9yzDLkkUacTVR_bgm2Q4_j=s64",
      "userId": "18302543905730526356"
     },
     "user_tz": -330
    },
    "id": "SbXhtSxz8Cbb",
    "outputId": "161e0f94-a4ff-44ed-adbb-39a609dba4c6",
    "scrolled": true
   },
   "outputs": [
    {
     "data": {
      "text/html": [
       "<div>\n",
       "<style scoped>\n",
       "    .dataframe tbody tr th:only-of-type {\n",
       "        vertical-align: middle;\n",
       "    }\n",
       "\n",
       "    .dataframe tbody tr th {\n",
       "        vertical-align: top;\n",
       "    }\n",
       "\n",
       "    .dataframe thead th {\n",
       "        text-align: right;\n",
       "    }\n",
       "</style>\n",
       "<table border=\"1\" class=\"dataframe\">\n",
       "  <thead>\n",
       "    <tr style=\"text-align: right;\">\n",
       "      <th></th>\n",
       "      <th>team.name</th>\n",
       "      <th>position</th>\n",
       "      <th>matches</th>\n",
       "      <th>wins</th>\n",
       "      <th>losses</th>\n",
       "      <th>draws</th>\n",
       "      <th>scoresFor</th>\n",
       "      <th>scoresAgainst</th>\n",
       "      <th>points</th>\n",
       "    </tr>\n",
       "  </thead>\n",
       "  <tbody>\n",
       "    <tr>\n",
       "      <th>0</th>\n",
       "      <td>Mumbai City FC</td>\n",
       "      <td>1</td>\n",
       "      <td>20</td>\n",
       "      <td>12</td>\n",
       "      <td>4</td>\n",
       "      <td>4</td>\n",
       "      <td>35</td>\n",
       "      <td>18</td>\n",
       "      <td>40</td>\n",
       "    </tr>\n",
       "    <tr>\n",
       "      <th>1</th>\n",
       "      <td>ATK Mohun Bagan FC</td>\n",
       "      <td>2</td>\n",
       "      <td>20</td>\n",
       "      <td>12</td>\n",
       "      <td>4</td>\n",
       "      <td>4</td>\n",
       "      <td>28</td>\n",
       "      <td>15</td>\n",
       "      <td>40</td>\n",
       "    </tr>\n",
       "    <tr>\n",
       "      <th>2</th>\n",
       "      <td>Northeast United</td>\n",
       "      <td>3</td>\n",
       "      <td>20</td>\n",
       "      <td>8</td>\n",
       "      <td>3</td>\n",
       "      <td>9</td>\n",
       "      <td>31</td>\n",
       "      <td>25</td>\n",
       "      <td>33</td>\n",
       "    </tr>\n",
       "    <tr>\n",
       "      <th>3</th>\n",
       "      <td>FC Goa</td>\n",
       "      <td>4</td>\n",
       "      <td>20</td>\n",
       "      <td>7</td>\n",
       "      <td>3</td>\n",
       "      <td>10</td>\n",
       "      <td>31</td>\n",
       "      <td>23</td>\n",
       "      <td>31</td>\n",
       "    </tr>\n",
       "    <tr>\n",
       "      <th>4</th>\n",
       "      <td>Hyderabad FC</td>\n",
       "      <td>5</td>\n",
       "      <td>20</td>\n",
       "      <td>6</td>\n",
       "      <td>3</td>\n",
       "      <td>11</td>\n",
       "      <td>27</td>\n",
       "      <td>19</td>\n",
       "      <td>29</td>\n",
       "    </tr>\n",
       "    <tr>\n",
       "      <th>5</th>\n",
       "      <td>Jamshedpur</td>\n",
       "      <td>6</td>\n",
       "      <td>20</td>\n",
       "      <td>7</td>\n",
       "      <td>7</td>\n",
       "      <td>6</td>\n",
       "      <td>21</td>\n",
       "      <td>22</td>\n",
       "      <td>27</td>\n",
       "    </tr>\n",
       "    <tr>\n",
       "      <th>6</th>\n",
       "      <td>Bengaluru FC</td>\n",
       "      <td>7</td>\n",
       "      <td>20</td>\n",
       "      <td>5</td>\n",
       "      <td>8</td>\n",
       "      <td>7</td>\n",
       "      <td>26</td>\n",
       "      <td>28</td>\n",
       "      <td>22</td>\n",
       "    </tr>\n",
       "    <tr>\n",
       "      <th>7</th>\n",
       "      <td>Chennaiyin FC</td>\n",
       "      <td>8</td>\n",
       "      <td>20</td>\n",
       "      <td>3</td>\n",
       "      <td>6</td>\n",
       "      <td>11</td>\n",
       "      <td>17</td>\n",
       "      <td>23</td>\n",
       "      <td>20</td>\n",
       "    </tr>\n",
       "    <tr>\n",
       "      <th>8</th>\n",
       "      <td>SC East Bengal</td>\n",
       "      <td>9</td>\n",
       "      <td>20</td>\n",
       "      <td>3</td>\n",
       "      <td>9</td>\n",
       "      <td>8</td>\n",
       "      <td>22</td>\n",
       "      <td>33</td>\n",
       "      <td>17</td>\n",
       "    </tr>\n",
       "    <tr>\n",
       "      <th>9</th>\n",
       "      <td>Kerala Blasters</td>\n",
       "      <td>10</td>\n",
       "      <td>20</td>\n",
       "      <td>3</td>\n",
       "      <td>9</td>\n",
       "      <td>8</td>\n",
       "      <td>23</td>\n",
       "      <td>36</td>\n",
       "      <td>17</td>\n",
       "    </tr>\n",
       "    <tr>\n",
       "      <th>10</th>\n",
       "      <td>Odisha Football Club</td>\n",
       "      <td>11</td>\n",
       "      <td>20</td>\n",
       "      <td>2</td>\n",
       "      <td>12</td>\n",
       "      <td>6</td>\n",
       "      <td>25</td>\n",
       "      <td>44</td>\n",
       "      <td>12</td>\n",
       "    </tr>\n",
       "  </tbody>\n",
       "</table>\n",
       "</div>"
      ],
      "text/plain": [
       "               team.name  position  matches  ...  scoresFor  scoresAgainst  points\n",
       "0         Mumbai City FC         1       20  ...         35             18      40\n",
       "1     ATK Mohun Bagan FC         2       20  ...         28             15      40\n",
       "2       Northeast United         3       20  ...         31             25      33\n",
       "3                 FC Goa         4       20  ...         31             23      31\n",
       "4           Hyderabad FC         5       20  ...         27             19      29\n",
       "5             Jamshedpur         6       20  ...         21             22      27\n",
       "6           Bengaluru FC         7       20  ...         26             28      22\n",
       "7          Chennaiyin FC         8       20  ...         17             23      20\n",
       "8         SC East Bengal         9       20  ...         22             33      17\n",
       "9        Kerala Blasters        10       20  ...         23             36      17\n",
       "10  Odisha Football Club        11       20  ...         25             44      12\n",
       "\n",
       "[11 rows x 9 columns]"
      ]
     },
     "execution_count": 8,
     "metadata": {
      "tags": []
     },
     "output_type": "execute_result"
    }
   ],
   "source": [
    "isl_df"
   ]
  },
  {
   "cell_type": "markdown",
   "metadata": {
    "id": "BOIf0O908Cbh"
   },
   "source": [
    "## to_csv\n",
    "\n",
    "Save a DataFrame as a csv file\n",
    "\n"
   ]
  },
  {
   "cell_type": "markdown",
   "metadata": {
    "id": "prr6b5vT98xd"
   },
   "source": [
    "#### In Jupyter Notebook/Local Python system\n",
    "\n",
    "<b> Parameters: </b>\n",
    "\n",
    "- path_or_buf: address where the file is to be saved"
   ]
  },
  {
   "cell_type": "code",
   "execution_count": null,
   "metadata": {
    "id": "H94KvaWT8Cbi"
   },
   "outputs": [],
   "source": [
    "file_address = \"D:/Sports Analysis/Sports Analytics Course Content/isl_standings_2021.csv\"\n",
    "df.to_csv(file_address)"
   ]
  },
  {
   "cell_type": "markdown",
   "metadata": {
    "id": "9BhaU2CN-Efe"
   },
   "source": [
    "#### In Google Colab\n",
    "\n",
    "<b> Parameters: </b>\n",
    "\n",
    "- path_or_buf: address where the file is to be saved"
   ]
  },
  {
   "cell_type": "code",
   "execution_count": null,
   "metadata": {
    "id": "T18M9ZqM-DFW"
   },
   "outputs": [],
   "source": [
    "isl_data.to_csv('isl_standings_2021.csv')\n",
    "files.download('isl_standings_2021.csv')"
   ]
  },
  {
   "cell_type": "markdown",
   "metadata": {
    "id": "zZWkRvI8-eep"
   },
   "source": [
    "NOTE: The download location here depends on your browser settings. \\\\\n",
    "- If a default location is set, it will automatically download there.\n",
    "- If \"choose a location\" option is set, it will open a dialog box asking you to choose a location for the download. \\\\\n",
    "(Just like you download a software :D )"
   ]
  },
  {
   "cell_type": "markdown",
   "metadata": {
    "id": "be3jgzee8Cbj"
   },
   "source": [
    "## Indexing and Slicing Dataframes - loc\n",
    "\n",
    "used to access a group of rows and columns by label(s) or a boolean array\n",
    "\n",
    "<b> Allowed inputs: </b>\n",
    "\n",
    "- Index value\n",
    "- list of indexes\n",
    "- range of indexes\n",
    "- column names"
   ]
  },
  {
   "cell_type": "code",
   "execution_count": null,
   "metadata": {
    "id": "fdhxO5zK8Cbk",
    "outputId": "93d27ecb-fac1-47a3-e7a9-17371ff593cf"
   },
   "outputs": [
    {
     "name": "stdout",
     "output_type": "stream",
     "text": [
      "X    0\n",
      "Y    1\n",
      "Z    2\n",
      "Name: A, dtype: int64\n"
     ]
    }
   ],
   "source": [
    "print(df.loc['Row1'])"
   ]
  },
  {
   "cell_type": "code",
   "execution_count": 8,
   "metadata": {
    "colab": {
     "base_uri": "https://localhost:8080/",
     "height": 167
    },
    "executionInfo": {
     "elapsed": 975,
     "status": "error",
     "timestamp": 1620211913706,
     "user": {
      "displayName": "Sushant Rao",
      "photoUrl": "https://lh3.googleusercontent.com/a-/AOh14GiqCtiyub8PWpaTYE9yzDLkkUacTVR_bgm2Q4_j=s64",
      "userId": "18302543905730526356"
     },
     "user_tz": -330
    },
    "id": "M8hmomXo8Cbl",
    "outputId": "31c875f9-e99f-4f48-cfa6-e9bd8439b9b9"
   },
   "outputs": [
    {
     "ename": "NameError",
     "evalue": "ignored",
     "output_type": "error",
     "traceback": [
      "\u001b[0;31m---------------------------------------------------------------------------\u001b[0m",
      "\u001b[0;31mNameError\u001b[0m                                 Traceback (most recent call last)",
      "\u001b[0;32m<ipython-input-8-2e6d16d4ef87>\u001b[0m in \u001b[0;36m<module>\u001b[0;34m()\u001b[0m\n\u001b[0;32m----> 1\u001b[0;31m \u001b[0mprint\u001b[0m\u001b[0;34m(\u001b[0m\u001b[0mdf\u001b[0m\u001b[0;34m.\u001b[0m\u001b[0mloc\u001b[0m\u001b[0;34m[\u001b[0m\u001b[0;34m[\u001b[0m\u001b[0;34m'Row1'\u001b[0m\u001b[0;34m,\u001b[0m \u001b[0;34m'Row3'\u001b[0m\u001b[0;34m]\u001b[0m\u001b[0;34m]\u001b[0m\u001b[0;34m)\u001b[0m\u001b[0;34m\u001b[0m\u001b[0;34m\u001b[0m\u001b[0m\n\u001b[0m",
      "\u001b[0;31mNameError\u001b[0m: name 'df' is not defined"
     ]
    }
   ],
   "source": [
    "print(df.loc[['Row1', 'Row3']])"
   ]
  },
  {
   "cell_type": "code",
   "execution_count": null,
   "metadata": {
    "id": "QG8jhj7_8Cbm",
    "outputId": "3fe37ba8-7920-410b-ab25-5fcbc5cbd33a"
   },
   "outputs": [
    {
     "name": "stdout",
     "output_type": "stream",
     "text": [
      "0\n"
     ]
    }
   ],
   "source": [
    "print(df.loc['Row1', 'Col2'])"
   ]
  },
  {
   "cell_type": "markdown",
   "metadata": {
    "id": "Qjh6BlFe8Cbm"
   },
   "source": [
    "## Indexing and Slicing Dataframes - iloc\n",
    "\n",
    "Purely integer-location based indexing for selection by position. The rows are accessed using their index position in dataframe.\n",
    "\n",
    "<b> Allowed inputs: </b>\n",
    "\n",
    "- Index's integer position\n",
    "- list of indexes' position\n",
    "- range of indexes' position"
   ]
  },
  {
   "cell_type": "code",
   "execution_count": null,
   "metadata": {
    "id": "9ZM0Pwzu8Cbn",
    "outputId": "090ce21d-4825-44dc-8a86-02e7e3a28828"
   },
   "outputs": [
    {
     "name": "stdout",
     "output_type": "stream",
     "text": [
      "X    0\n",
      "Y    1\n",
      "Z    2\n",
      "Name: A, dtype: int64\n"
     ]
    }
   ],
   "source": [
    "print(df.iloc[0])"
   ]
  },
  {
   "cell_type": "code",
   "execution_count": null,
   "metadata": {
    "id": "20fHgn8h8Cbo",
    "outputId": "7cdbdb1e-1b53-4af8-daad-ca3841acfc04"
   },
   "outputs": [
    {
     "name": "stdout",
     "output_type": "stream",
     "text": [
      "   X  Y  Z\n",
      "A  0  1  2\n",
      "C  6  7  8\n"
     ]
    }
   ],
   "source": [
    "print(df.iloc[[0, 2]])"
   ]
  },
  {
   "cell_type": "code",
   "execution_count": null,
   "metadata": {
    "id": "-G8Njuai8Cbp",
    "outputId": "39b42e88-2986-4087-d669-ee44c03fb68e"
   },
   "outputs": [
    {
     "name": "stdout",
     "output_type": "stream",
     "text": [
      "   X  Y  Z\n",
      "A  0  1  2\n",
      "B  3  4  5\n"
     ]
    }
   ],
   "source": [
    "print(df.iloc[0:2])"
   ]
  },
  {
   "cell_type": "markdown",
   "metadata": {
    "id": "IV9f1Bhs8Cbp"
   },
   "source": [
    "## groupby\n",
    "\n",
    "Group DataFrame using a column or a series of column\n",
    "\n",
    "<b> Parameter: </b>\n",
    "\n",
    "- by: used to determine the columns for the groupby\n",
    "- axis: 0 (grouping along row), 1 (grouping along columns) "
   ]
  },
  {
   "cell_type": "code",
   "execution_count": 18,
   "metadata": {
    "executionInfo": {
     "elapsed": 1316,
     "status": "ok",
     "timestamp": 1620212130036,
     "user": {
      "displayName": "Sushant Rao",
      "photoUrl": "https://lh3.googleusercontent.com/a-/AOh14GiqCtiyub8PWpaTYE9yzDLkkUacTVR_bgm2Q4_j=s64",
      "userId": "18302543905730526356"
     },
     "user_tz": -330
    },
    "id": "-cBDSQ-X8Cbq"
   },
   "outputs": [],
   "source": [
    "grp = df.groupby([\"Col3\"]).mean()"
   ]
  },
  {
   "cell_type": "code",
   "execution_count": 19,
   "metadata": {
    "colab": {
     "base_uri": "https://localhost:8080/",
     "height": 167
    },
    "executionInfo": {
     "elapsed": 1231,
     "status": "ok",
     "timestamp": 1620212132635,
     "user": {
      "displayName": "Sushant Rao",
      "photoUrl": "https://lh3.googleusercontent.com/a-/AOh14GiqCtiyub8PWpaTYE9yzDLkkUacTVR_bgm2Q4_j=s64",
      "userId": "18302543905730526356"
     },
     "user_tz": -330
    },
    "id": "TXpyK7Sp8Cbq",
    "outputId": "67fcd4f0-666e-44cf-8878-70cf706f2fa7"
   },
   "outputs": [
    {
     "data": {
      "text/html": [
       "<div>\n",
       "<style scoped>\n",
       "    .dataframe tbody tr th:only-of-type {\n",
       "        vertical-align: middle;\n",
       "    }\n",
       "\n",
       "    .dataframe tbody tr th {\n",
       "        vertical-align: top;\n",
       "    }\n",
       "\n",
       "    .dataframe thead th {\n",
       "        text-align: right;\n",
       "    }\n",
       "</style>\n",
       "<table border=\"1\" class=\"dataframe\">\n",
       "  <thead>\n",
       "    <tr style=\"text-align: right;\">\n",
       "      <th></th>\n",
       "      <th>Col1</th>\n",
       "      <th>Col2</th>\n",
       "    </tr>\n",
       "    <tr>\n",
       "      <th>Col3</th>\n",
       "      <th></th>\n",
       "      <th></th>\n",
       "    </tr>\n",
       "  </thead>\n",
       "  <tbody>\n",
       "    <tr>\n",
       "      <th>33</th>\n",
       "      <td>11</td>\n",
       "      <td>12</td>\n",
       "    </tr>\n",
       "    <tr>\n",
       "      <th>66</th>\n",
       "      <td>44</td>\n",
       "      <td>55</td>\n",
       "    </tr>\n",
       "    <tr>\n",
       "      <th>99</th>\n",
       "      <td>77</td>\n",
       "      <td>88</td>\n",
       "    </tr>\n",
       "  </tbody>\n",
       "</table>\n",
       "</div>"
      ],
      "text/plain": [
       "      Col1  Col2\n",
       "Col3            \n",
       "33      11    12\n",
       "66      44    55\n",
       "99      77    88"
      ]
     },
     "execution_count": 19,
     "metadata": {
      "tags": []
     },
     "output_type": "execute_result"
    }
   ],
   "source": [
    "grp"
   ]
  },
  {
   "cell_type": "code",
   "execution_count": 16,
   "metadata": {
    "executionInfo": {
     "elapsed": 1103,
     "status": "ok",
     "timestamp": 1620212120265,
     "user": {
      "displayName": "Sushant Rao",
      "photoUrl": "https://lh3.googleusercontent.com/a-/AOh14GiqCtiyub8PWpaTYE9yzDLkkUacTVR_bgm2Q4_j=s64",
      "userId": "18302543905730526356"
     },
     "user_tz": -330
    },
    "id": "siS4AdvFKR9i"
   },
   "outputs": [],
   "source": [
    "grp = df.groupby([\"Col2\"]).sum()"
   ]
  },
  {
   "cell_type": "code",
   "execution_count": 17,
   "metadata": {
    "colab": {
     "base_uri": "https://localhost:8080/",
     "height": 167
    },
    "executionInfo": {
     "elapsed": 1088,
     "status": "ok",
     "timestamp": 1620212122564,
     "user": {
      "displayName": "Sushant Rao",
      "photoUrl": "https://lh3.googleusercontent.com/a-/AOh14GiqCtiyub8PWpaTYE9yzDLkkUacTVR_bgm2Q4_j=s64",
      "userId": "18302543905730526356"
     },
     "user_tz": -330
    },
    "id": "WQTg2ih2KR9q",
    "outputId": "81a83725-6d9d-47f5-b2dc-fd4299b5caab"
   },
   "outputs": [
    {
     "data": {
      "text/html": [
       "<div>\n",
       "<style scoped>\n",
       "    .dataframe tbody tr th:only-of-type {\n",
       "        vertical-align: middle;\n",
       "    }\n",
       "\n",
       "    .dataframe tbody tr th {\n",
       "        vertical-align: top;\n",
       "    }\n",
       "\n",
       "    .dataframe thead th {\n",
       "        text-align: right;\n",
       "    }\n",
       "</style>\n",
       "<table border=\"1\" class=\"dataframe\">\n",
       "  <thead>\n",
       "    <tr style=\"text-align: right;\">\n",
       "      <th></th>\n",
       "      <th>Col1</th>\n",
       "      <th>Col3</th>\n",
       "    </tr>\n",
       "    <tr>\n",
       "      <th>Col2</th>\n",
       "      <th></th>\n",
       "      <th></th>\n",
       "    </tr>\n",
       "  </thead>\n",
       "  <tbody>\n",
       "    <tr>\n",
       "      <th>12</th>\n",
       "      <td>11</td>\n",
       "      <td>33</td>\n",
       "    </tr>\n",
       "    <tr>\n",
       "      <th>55</th>\n",
       "      <td>44</td>\n",
       "      <td>66</td>\n",
       "    </tr>\n",
       "    <tr>\n",
       "      <th>88</th>\n",
       "      <td>77</td>\n",
       "      <td>99</td>\n",
       "    </tr>\n",
       "  </tbody>\n",
       "</table>\n",
       "</div>"
      ],
      "text/plain": [
       "      Col1  Col3\n",
       "Col2            \n",
       "12      11    33\n",
       "55      44    66\n",
       "88      77    99"
      ]
     },
     "execution_count": 17,
     "metadata": {
      "tags": []
     },
     "output_type": "execute_result"
    }
   ],
   "source": [
    "grp"
   ]
  },
  {
   "cell_type": "markdown",
   "metadata": {
    "id": "k7M9rVF18Cbr"
   },
   "source": [
    "## drop\n",
    "\n",
    "Drop specified labels from rows or columns.\n",
    "\n",
    "<b> Parameters: </b>\n",
    "\n",
    "- labels: Index or column labels to drop\n",
    "- axis: 0 (along the rows), 1 (along the columns)"
   ]
  },
  {
   "cell_type": "code",
   "execution_count": null,
   "metadata": {
    "id": "xS2eJ5p48Cbr"
   },
   "outputs": [],
   "source": [
    "new_df = df.drop(\"Col1\", axis=1)"
   ]
  },
  {
   "cell_type": "code",
   "execution_count": null,
   "metadata": {
    "id": "qHsvyQPF8Cbs",
    "outputId": "f87a17d9-b4cc-4f80-a9a2-51b834ba23db"
   },
   "outputs": [
    {
     "data": {
      "text/html": [
       "<div>\n",
       "<style scoped>\n",
       "    .dataframe tbody tr th:only-of-type {\n",
       "        vertical-align: middle;\n",
       "    }\n",
       "\n",
       "    .dataframe tbody tr th {\n",
       "        vertical-align: top;\n",
       "    }\n",
       "\n",
       "    .dataframe thead th {\n",
       "        text-align: right;\n",
       "    }\n",
       "</style>\n",
       "<table border=\"1\" class=\"dataframe\">\n",
       "  <thead>\n",
       "    <tr style=\"text-align: right;\">\n",
       "      <th></th>\n",
       "      <th>Y</th>\n",
       "      <th>Z</th>\n",
       "    </tr>\n",
       "  </thead>\n",
       "  <tbody>\n",
       "    <tr>\n",
       "      <th>A</th>\n",
       "      <td>1</td>\n",
       "      <td>2</td>\n",
       "    </tr>\n",
       "    <tr>\n",
       "      <th>B</th>\n",
       "      <td>4</td>\n",
       "      <td>5</td>\n",
       "    </tr>\n",
       "    <tr>\n",
       "      <th>C</th>\n",
       "      <td>7</td>\n",
       "      <td>8</td>\n",
       "    </tr>\n",
       "  </tbody>\n",
       "</table>\n",
       "</div>"
      ],
      "text/plain": [
       "   Y  Z\n",
       "A  1  2\n",
       "B  4  5\n",
       "C  7  8"
      ]
     },
     "execution_count": 16,
     "metadata": {
      "tags": []
     },
     "output_type": "execute_result"
    }
   ],
   "source": [
    "new_df"
   ]
  },
  {
   "cell_type": "markdown",
   "metadata": {
    "id": "5jYvdU_38Cbs"
   },
   "source": [
    "## to_numeric\n",
    "\n",
    "Convert argument to a numeric type(by default int64 or float64).\n",
    "\n",
    "**Parameters:**\n",
    "\n",
    "- arg: The object to convert to a numeric datatype (can be str, dataframe, series)"
   ]
  },
  {
   "cell_type": "code",
   "execution_count": 20,
   "metadata": {
    "executionInfo": {
     "elapsed": 1180,
     "status": "ok",
     "timestamp": 1620212782990,
     "user": {
      "displayName": "Sushant Rao",
      "photoUrl": "https://lh3.googleusercontent.com/a-/AOh14GiqCtiyub8PWpaTYE9yzDLkkUacTVR_bgm2Q4_j=s64",
      "userId": "18302543905730526356"
     },
     "user_tz": -330
    },
    "id": "hHD1Ibn28Cbw"
   },
   "outputs": [],
   "source": [
    "df[\"strng\"] = [\"16\", \"5\", \"99\"]"
   ]
  },
  {
   "cell_type": "code",
   "execution_count": 21,
   "metadata": {
    "colab": {
     "base_uri": "https://localhost:8080/",
     "height": 137
    },
    "executionInfo": {
     "elapsed": 885,
     "status": "ok",
     "timestamp": 1620212784277,
     "user": {
      "displayName": "Sushant Rao",
      "photoUrl": "https://lh3.googleusercontent.com/a-/AOh14GiqCtiyub8PWpaTYE9yzDLkkUacTVR_bgm2Q4_j=s64",
      "userId": "18302543905730526356"
     },
     "user_tz": -330
    },
    "id": "l9DboZAu8Cbw",
    "outputId": "86105a1c-a3ac-41d9-96c0-91ffe48ad4bb"
   },
   "outputs": [
    {
     "data": {
      "text/html": [
       "<div>\n",
       "<style scoped>\n",
       "    .dataframe tbody tr th:only-of-type {\n",
       "        vertical-align: middle;\n",
       "    }\n",
       "\n",
       "    .dataframe tbody tr th {\n",
       "        vertical-align: top;\n",
       "    }\n",
       "\n",
       "    .dataframe thead th {\n",
       "        text-align: right;\n",
       "    }\n",
       "</style>\n",
       "<table border=\"1\" class=\"dataframe\">\n",
       "  <thead>\n",
       "    <tr style=\"text-align: right;\">\n",
       "      <th></th>\n",
       "      <th>Col1</th>\n",
       "      <th>Col2</th>\n",
       "      <th>Col3</th>\n",
       "      <th>strng</th>\n",
       "    </tr>\n",
       "  </thead>\n",
       "  <tbody>\n",
       "    <tr>\n",
       "      <th>Row1</th>\n",
       "      <td>11</td>\n",
       "      <td>12</td>\n",
       "      <td>33</td>\n",
       "      <td>16</td>\n",
       "    </tr>\n",
       "    <tr>\n",
       "      <th>Row2</th>\n",
       "      <td>44</td>\n",
       "      <td>55</td>\n",
       "      <td>66</td>\n",
       "      <td>5</td>\n",
       "    </tr>\n",
       "    <tr>\n",
       "      <th>Row3</th>\n",
       "      <td>77</td>\n",
       "      <td>88</td>\n",
       "      <td>99</td>\n",
       "      <td>99</td>\n",
       "    </tr>\n",
       "  </tbody>\n",
       "</table>\n",
       "</div>"
      ],
      "text/plain": [
       "      Col1  Col2  Col3 strng\n",
       "Row1    11    12    33    16\n",
       "Row2    44    55    66     5\n",
       "Row3    77    88    99    99"
      ]
     },
     "execution_count": 21,
     "metadata": {
      "tags": []
     },
     "output_type": "execute_result"
    }
   ],
   "source": [
    "df"
   ]
  },
  {
   "cell_type": "code",
   "execution_count": 22,
   "metadata": {
    "colab": {
     "base_uri": "https://localhost:8080/"
    },
    "executionInfo": {
     "elapsed": 673,
     "status": "ok",
     "timestamp": 1620212794075,
     "user": {
      "displayName": "Sushant Rao",
      "photoUrl": "https://lh3.googleusercontent.com/a-/AOh14GiqCtiyub8PWpaTYE9yzDLkkUacTVR_bgm2Q4_j=s64",
      "userId": "18302543905730526356"
     },
     "user_tz": -330
    },
    "id": "1etXk6D8NSvb",
    "outputId": "3f5e2e58-d020-427a-ae11-639528c1f5da"
   },
   "outputs": [
    {
     "data": {
      "text/plain": [
       "Col1      int64\n",
       "Col2      int64\n",
       "Col3      int64\n",
       "strng    object\n",
       "dtype: object"
      ]
     },
     "execution_count": 22,
     "metadata": {
      "tags": []
     },
     "output_type": "execute_result"
    }
   ],
   "source": [
    "df.dtypes"
   ]
  },
  {
   "cell_type": "code",
   "execution_count": 23,
   "metadata": {
    "executionInfo": {
     "elapsed": 1030,
     "status": "ok",
     "timestamp": 1620212809935,
     "user": {
      "displayName": "Sushant Rao",
      "photoUrl": "https://lh3.googleusercontent.com/a-/AOh14GiqCtiyub8PWpaTYE9yzDLkkUacTVR_bgm2Q4_j=s64",
      "userId": "18302543905730526356"
     },
     "user_tz": -330
    },
    "id": "1wYCmD308Cbw"
   },
   "outputs": [],
   "source": [
    "df[\"strng\"] = pd.to_numeric(df[\"strng\"])"
   ]
  },
  {
   "cell_type": "code",
   "execution_count": 24,
   "metadata": {
    "colab": {
     "base_uri": "https://localhost:8080/",
     "height": 137
    },
    "executionInfo": {
     "elapsed": 838,
     "status": "ok",
     "timestamp": 1620212812860,
     "user": {
      "displayName": "Sushant Rao",
      "photoUrl": "https://lh3.googleusercontent.com/a-/AOh14GiqCtiyub8PWpaTYE9yzDLkkUacTVR_bgm2Q4_j=s64",
      "userId": "18302543905730526356"
     },
     "user_tz": -330
    },
    "id": "Edmhx3r98Cbx",
    "outputId": "6b97673f-9bd8-4a0e-b1ea-b60fd29c58c6"
   },
   "outputs": [
    {
     "data": {
      "text/html": [
       "<div>\n",
       "<style scoped>\n",
       "    .dataframe tbody tr th:only-of-type {\n",
       "        vertical-align: middle;\n",
       "    }\n",
       "\n",
       "    .dataframe tbody tr th {\n",
       "        vertical-align: top;\n",
       "    }\n",
       "\n",
       "    .dataframe thead th {\n",
       "        text-align: right;\n",
       "    }\n",
       "</style>\n",
       "<table border=\"1\" class=\"dataframe\">\n",
       "  <thead>\n",
       "    <tr style=\"text-align: right;\">\n",
       "      <th></th>\n",
       "      <th>Col1</th>\n",
       "      <th>Col2</th>\n",
       "      <th>Col3</th>\n",
       "      <th>strng</th>\n",
       "    </tr>\n",
       "  </thead>\n",
       "  <tbody>\n",
       "    <tr>\n",
       "      <th>Row1</th>\n",
       "      <td>11</td>\n",
       "      <td>12</td>\n",
       "      <td>33</td>\n",
       "      <td>16</td>\n",
       "    </tr>\n",
       "    <tr>\n",
       "      <th>Row2</th>\n",
       "      <td>44</td>\n",
       "      <td>55</td>\n",
       "      <td>66</td>\n",
       "      <td>5</td>\n",
       "    </tr>\n",
       "    <tr>\n",
       "      <th>Row3</th>\n",
       "      <td>77</td>\n",
       "      <td>88</td>\n",
       "      <td>99</td>\n",
       "      <td>99</td>\n",
       "    </tr>\n",
       "  </tbody>\n",
       "</table>\n",
       "</div>"
      ],
      "text/plain": [
       "      Col1  Col2  Col3  strng\n",
       "Row1    11    12    33     16\n",
       "Row2    44    55    66      5\n",
       "Row3    77    88    99     99"
      ]
     },
     "execution_count": 24,
     "metadata": {
      "tags": []
     },
     "output_type": "execute_result"
    }
   ],
   "source": [
    "df"
   ]
  },
  {
   "cell_type": "code",
   "execution_count": 25,
   "metadata": {
    "colab": {
     "base_uri": "https://localhost:8080/"
    },
    "executionInfo": {
     "elapsed": 850,
     "status": "ok",
     "timestamp": 1620212818844,
     "user": {
      "displayName": "Sushant Rao",
      "photoUrl": "https://lh3.googleusercontent.com/a-/AOh14GiqCtiyub8PWpaTYE9yzDLkkUacTVR_bgm2Q4_j=s64",
      "userId": "18302543905730526356"
     },
     "user_tz": -330
    },
    "id": "cdjVHNWINZBr",
    "outputId": "3f379bf8-83a1-4683-f290-0190ca4fb695"
   },
   "outputs": [
    {
     "data": {
      "text/plain": [
       "Col1     int64\n",
       "Col2     int64\n",
       "Col3     int64\n",
       "strng    int64\n",
       "dtype: object"
      ]
     },
     "execution_count": 25,
     "metadata": {
      "tags": []
     },
     "output_type": "execute_result"
    }
   ],
   "source": [
    "df.dtypes"
   ]
  },
  {
   "cell_type": "markdown",
   "metadata": {
    "id": "6EPCv3wo8Cbx"
   },
   "source": [
    "## sort_values\n",
    "\n",
    "Sort the dataframe by the values along either axis.\n",
    "\n",
    "<b> Parameters: </b>\n",
    "\n",
    "- by: Name or list of names to sort by.\n",
    "- axis: 0 (along row), 1 (along columns)\n",
    "- ascending: False or 0(for descending), True or 1(for ascending)"
   ]
  },
  {
   "cell_type": "code",
   "execution_count": 29,
   "metadata": {
    "executionInfo": {
     "elapsed": 810,
     "status": "ok",
     "timestamp": 1620212880966,
     "user": {
      "displayName": "Sushant Rao",
      "photoUrl": "https://lh3.googleusercontent.com/a-/AOh14GiqCtiyub8PWpaTYE9yzDLkkUacTVR_bgm2Q4_j=s64",
      "userId": "18302543905730526356"
     },
     "user_tz": -330
    },
    "id": "484iveG28Cby"
   },
   "outputs": [],
   "source": [
    "sorted_df = df.sort_values(by=\"Col2\", ascending=False)"
   ]
  },
  {
   "cell_type": "code",
   "execution_count": 30,
   "metadata": {
    "colab": {
     "base_uri": "https://localhost:8080/",
     "height": 137
    },
    "executionInfo": {
     "elapsed": 936,
     "status": "ok",
     "timestamp": 1620212882226,
     "user": {
      "displayName": "Sushant Rao",
      "photoUrl": "https://lh3.googleusercontent.com/a-/AOh14GiqCtiyub8PWpaTYE9yzDLkkUacTVR_bgm2Q4_j=s64",
      "userId": "18302543905730526356"
     },
     "user_tz": -330
    },
    "id": "tfyvMKId8Cby",
    "outputId": "59ab405c-c013-43d8-9e48-9aa011a4a871"
   },
   "outputs": [
    {
     "data": {
      "text/html": [
       "<div>\n",
       "<style scoped>\n",
       "    .dataframe tbody tr th:only-of-type {\n",
       "        vertical-align: middle;\n",
       "    }\n",
       "\n",
       "    .dataframe tbody tr th {\n",
       "        vertical-align: top;\n",
       "    }\n",
       "\n",
       "    .dataframe thead th {\n",
       "        text-align: right;\n",
       "    }\n",
       "</style>\n",
       "<table border=\"1\" class=\"dataframe\">\n",
       "  <thead>\n",
       "    <tr style=\"text-align: right;\">\n",
       "      <th></th>\n",
       "      <th>Col1</th>\n",
       "      <th>Col2</th>\n",
       "      <th>Col3</th>\n",
       "      <th>strng</th>\n",
       "    </tr>\n",
       "  </thead>\n",
       "  <tbody>\n",
       "    <tr>\n",
       "      <th>Row3</th>\n",
       "      <td>77</td>\n",
       "      <td>88</td>\n",
       "      <td>99</td>\n",
       "      <td>99</td>\n",
       "    </tr>\n",
       "    <tr>\n",
       "      <th>Row2</th>\n",
       "      <td>44</td>\n",
       "      <td>55</td>\n",
       "      <td>66</td>\n",
       "      <td>5</td>\n",
       "    </tr>\n",
       "    <tr>\n",
       "      <th>Row1</th>\n",
       "      <td>11</td>\n",
       "      <td>12</td>\n",
       "      <td>33</td>\n",
       "      <td>16</td>\n",
       "    </tr>\n",
       "  </tbody>\n",
       "</table>\n",
       "</div>"
      ],
      "text/plain": [
       "      Col1  Col2  Col3  strng\n",
       "Row3    77    88    99     99\n",
       "Row2    44    55    66      5\n",
       "Row1    11    12    33     16"
      ]
     },
     "execution_count": 30,
     "metadata": {
      "tags": []
     },
     "output_type": "execute_result"
    }
   ],
   "source": [
    "sorted_df"
   ]
  },
  {
   "cell_type": "markdown",
   "metadata": {
    "id": "6RnxnhOV8Cby"
   },
   "source": [
    "## describe, mean, mode, median\n",
    "\n",
    "<b> Describe: </b> Generate descriptive statistics of a dataframe/series<br>\n",
    "<b> Mean: </b> Gives mean of a dataframe/columns<br>\n",
    "<b> Median: </b> Gives median of a dataframe/columns<br>\n",
    "<b> Mode: </b> Gives mode of a dataframe/columns"
   ]
  },
  {
   "cell_type": "code",
   "execution_count": 31,
   "metadata": {
    "colab": {
     "base_uri": "https://localhost:8080/",
     "height": 287
    },
    "executionInfo": {
     "elapsed": 824,
     "status": "ok",
     "timestamp": 1620212888698,
     "user": {
      "displayName": "Sushant Rao",
      "photoUrl": "https://lh3.googleusercontent.com/a-/AOh14GiqCtiyub8PWpaTYE9yzDLkkUacTVR_bgm2Q4_j=s64",
      "userId": "18302543905730526356"
     },
     "user_tz": -330
    },
    "id": "RTOsjw1b8Cbz",
    "outputId": "ed103cda-527b-49b2-c25b-0bd3295015fe"
   },
   "outputs": [
    {
     "data": {
      "text/html": [
       "<div>\n",
       "<style scoped>\n",
       "    .dataframe tbody tr th:only-of-type {\n",
       "        vertical-align: middle;\n",
       "    }\n",
       "\n",
       "    .dataframe tbody tr th {\n",
       "        vertical-align: top;\n",
       "    }\n",
       "\n",
       "    .dataframe thead th {\n",
       "        text-align: right;\n",
       "    }\n",
       "</style>\n",
       "<table border=\"1\" class=\"dataframe\">\n",
       "  <thead>\n",
       "    <tr style=\"text-align: right;\">\n",
       "      <th></th>\n",
       "      <th>Col1</th>\n",
       "      <th>Col2</th>\n",
       "      <th>Col3</th>\n",
       "      <th>strng</th>\n",
       "    </tr>\n",
       "  </thead>\n",
       "  <tbody>\n",
       "    <tr>\n",
       "      <th>count</th>\n",
       "      <td>3.0</td>\n",
       "      <td>3.000000</td>\n",
       "      <td>3.0</td>\n",
       "      <td>3.000000</td>\n",
       "    </tr>\n",
       "    <tr>\n",
       "      <th>mean</th>\n",
       "      <td>44.0</td>\n",
       "      <td>51.666667</td>\n",
       "      <td>66.0</td>\n",
       "      <td>40.000000</td>\n",
       "    </tr>\n",
       "    <tr>\n",
       "      <th>std</th>\n",
       "      <td>33.0</td>\n",
       "      <td>38.109491</td>\n",
       "      <td>33.0</td>\n",
       "      <td>51.390661</td>\n",
       "    </tr>\n",
       "    <tr>\n",
       "      <th>min</th>\n",
       "      <td>11.0</td>\n",
       "      <td>12.000000</td>\n",
       "      <td>33.0</td>\n",
       "      <td>5.000000</td>\n",
       "    </tr>\n",
       "    <tr>\n",
       "      <th>25%</th>\n",
       "      <td>27.5</td>\n",
       "      <td>33.500000</td>\n",
       "      <td>49.5</td>\n",
       "      <td>10.500000</td>\n",
       "    </tr>\n",
       "    <tr>\n",
       "      <th>50%</th>\n",
       "      <td>44.0</td>\n",
       "      <td>55.000000</td>\n",
       "      <td>66.0</td>\n",
       "      <td>16.000000</td>\n",
       "    </tr>\n",
       "    <tr>\n",
       "      <th>75%</th>\n",
       "      <td>60.5</td>\n",
       "      <td>71.500000</td>\n",
       "      <td>82.5</td>\n",
       "      <td>57.500000</td>\n",
       "    </tr>\n",
       "    <tr>\n",
       "      <th>max</th>\n",
       "      <td>77.0</td>\n",
       "      <td>88.000000</td>\n",
       "      <td>99.0</td>\n",
       "      <td>99.000000</td>\n",
       "    </tr>\n",
       "  </tbody>\n",
       "</table>\n",
       "</div>"
      ],
      "text/plain": [
       "       Col1       Col2  Col3      strng\n",
       "count   3.0   3.000000   3.0   3.000000\n",
       "mean   44.0  51.666667  66.0  40.000000\n",
       "std    33.0  38.109491  33.0  51.390661\n",
       "min    11.0  12.000000  33.0   5.000000\n",
       "25%    27.5  33.500000  49.5  10.500000\n",
       "50%    44.0  55.000000  66.0  16.000000\n",
       "75%    60.5  71.500000  82.5  57.500000\n",
       "max    77.0  88.000000  99.0  99.000000"
      ]
     },
     "execution_count": 31,
     "metadata": {
      "tags": []
     },
     "output_type": "execute_result"
    }
   ],
   "source": [
    "df.describe()"
   ]
  },
  {
   "cell_type": "code",
   "execution_count": 32,
   "metadata": {
    "colab": {
     "base_uri": "https://localhost:8080/"
    },
    "executionInfo": {
     "elapsed": 805,
     "status": "ok",
     "timestamp": 1620212893645,
     "user": {
      "displayName": "Sushant Rao",
      "photoUrl": "https://lh3.googleusercontent.com/a-/AOh14GiqCtiyub8PWpaTYE9yzDLkkUacTVR_bgm2Q4_j=s64",
      "userId": "18302543905730526356"
     },
     "user_tz": -330
    },
    "id": "nXzuK8Od8Cbz",
    "outputId": "258403ad-d35c-4292-ed1e-7f53d446f081"
   },
   "outputs": [
    {
     "data": {
      "text/plain": [
       "Col1     44.000000\n",
       "Col2     51.666667\n",
       "Col3     66.000000\n",
       "strng    40.000000\n",
       "dtype: float64"
      ]
     },
     "execution_count": 32,
     "metadata": {
      "tags": []
     },
     "output_type": "execute_result"
    }
   ],
   "source": [
    "df.mean()"
   ]
  },
  {
   "cell_type": "code",
   "execution_count": 33,
   "metadata": {
    "colab": {
     "base_uri": "https://localhost:8080/"
    },
    "executionInfo": {
     "elapsed": 966,
     "status": "ok",
     "timestamp": 1620212894977,
     "user": {
      "displayName": "Sushant Rao",
      "photoUrl": "https://lh3.googleusercontent.com/a-/AOh14GiqCtiyub8PWpaTYE9yzDLkkUacTVR_bgm2Q4_j=s64",
      "userId": "18302543905730526356"
     },
     "user_tz": -330
    },
    "id": "DZZOShOB8Cb0",
    "outputId": "01d8583a-681a-4a7f-cc40-8edc0392286f"
   },
   "outputs": [
    {
     "data": {
      "text/plain": [
       "Col1     44.0\n",
       "Col2     55.0\n",
       "Col3     66.0\n",
       "strng    16.0\n",
       "dtype: float64"
      ]
     },
     "execution_count": 33,
     "metadata": {
      "tags": []
     },
     "output_type": "execute_result"
    }
   ],
   "source": [
    "df.median()"
   ]
  },
  {
   "cell_type": "code",
   "execution_count": 34,
   "metadata": {
    "colab": {
     "base_uri": "https://localhost:8080/",
     "height": 137
    },
    "executionInfo": {
     "elapsed": 752,
     "status": "ok",
     "timestamp": 1620212896126,
     "user": {
      "displayName": "Sushant Rao",
      "photoUrl": "https://lh3.googleusercontent.com/a-/AOh14GiqCtiyub8PWpaTYE9yzDLkkUacTVR_bgm2Q4_j=s64",
      "userId": "18302543905730526356"
     },
     "user_tz": -330
    },
    "id": "P7WROTcF8Cb0",
    "outputId": "54931e26-36d9-4aef-8377-b59f11fa04d6"
   },
   "outputs": [
    {
     "data": {
      "text/html": [
       "<div>\n",
       "<style scoped>\n",
       "    .dataframe tbody tr th:only-of-type {\n",
       "        vertical-align: middle;\n",
       "    }\n",
       "\n",
       "    .dataframe tbody tr th {\n",
       "        vertical-align: top;\n",
       "    }\n",
       "\n",
       "    .dataframe thead th {\n",
       "        text-align: right;\n",
       "    }\n",
       "</style>\n",
       "<table border=\"1\" class=\"dataframe\">\n",
       "  <thead>\n",
       "    <tr style=\"text-align: right;\">\n",
       "      <th></th>\n",
       "      <th>Col1</th>\n",
       "      <th>Col2</th>\n",
       "      <th>Col3</th>\n",
       "      <th>strng</th>\n",
       "    </tr>\n",
       "  </thead>\n",
       "  <tbody>\n",
       "    <tr>\n",
       "      <th>0</th>\n",
       "      <td>11</td>\n",
       "      <td>12</td>\n",
       "      <td>33</td>\n",
       "      <td>5</td>\n",
       "    </tr>\n",
       "    <tr>\n",
       "      <th>1</th>\n",
       "      <td>44</td>\n",
       "      <td>55</td>\n",
       "      <td>66</td>\n",
       "      <td>16</td>\n",
       "    </tr>\n",
       "    <tr>\n",
       "      <th>2</th>\n",
       "      <td>77</td>\n",
       "      <td>88</td>\n",
       "      <td>99</td>\n",
       "      <td>99</td>\n",
       "    </tr>\n",
       "  </tbody>\n",
       "</table>\n",
       "</div>"
      ],
      "text/plain": [
       "   Col1  Col2  Col3  strng\n",
       "0    11    12    33      5\n",
       "1    44    55    66     16\n",
       "2    77    88    99     99"
      ]
     },
     "execution_count": 34,
     "metadata": {
      "tags": []
     },
     "output_type": "execute_result"
    }
   ],
   "source": [
    "df.mode()"
   ]
  }
 ],
 "metadata": {
  "colab": {
   "collapsed_sections": [],
   "name": "FAUP - Cheat Sheet.ipynb",
   "provenance": [],
   "toc_visible": true
  },
  "kernelspec": {
   "display_name": "Python 3",
   "language": "python",
   "name": "python3"
  },
  "language_info": {
   "codemirror_mode": {
    "name": "ipython",
    "version": 3
   },
   "file_extension": ".py",
   "mimetype": "text/x-python",
   "name": "python",
   "nbconvert_exporter": "python",
   "pygments_lexer": "ipython3",
   "version": "3.7.6"
  }
 },
 "nbformat": 4,
 "nbformat_minor": 1
}
